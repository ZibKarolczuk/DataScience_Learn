{
 "cells": [
  {
   "cell_type": "code",
   "execution_count": 130,
   "metadata": {
    "collapsed": true
   },
   "outputs": [],
   "source": [
    "import numpy as np\n",
    "import scipy\n",
    "import scipy.spatial\n",
    "from scipy.spatial import distance_matrix"
   ]
  },
  {
   "cell_type": "code",
   "execution_count": 141,
   "metadata": {
    "collapsed": false
   },
   "outputs": [],
   "source": [
    "scattersEachGroup = 20\n",
    "\n",
    "a1_x = np.random.uniform(9,12,scattersEachGroup)\n",
    "a1_y = np.random.uniform(3,11,scattersEachGroup)\n",
    "a2_x = np.random.uniform(1,6,scattersEachGroup)\n",
    "a2_y = np.random.uniform(0,10,scattersEachGroup)\n",
    "a3_x = np.random.uniform(5,9,scattersEachGroup)\n",
    "a3_y = np.random.uniform(8,18,scattersEachGroup)\n",
    "\n",
    "r4_x = np.random.uniform(0,12,scattersEachGroup)\n",
    "r4_y = np.random.uniform(0,18,scattersEachGroup)\n",
    "\n",
    "a_x = np.r_[a1_x, a2_x, a3_x, r4_x].reshape(-1,1)\n",
    "a_y = np.r_[a1_y, a2_y, a3_y, r4_y].reshape(-1,1)\n",
    "\n",
    "points = np.hstack((a_x, a_y))"
   ]
  },
  {
   "cell_type": "code",
   "execution_count": 142,
   "metadata": {
    "collapsed": false
   },
   "outputs": [],
   "source": [
    "scatters = scattersEachGroup * 4\n",
    "\n",
    "indexes = np.arange(scatters)\n",
    "np.random.shuffle(indexes)\n",
    "indexes = indexes[:3]\n",
    "\n",
    "distances = scipy.spatial.distance_matrix(points, points)"
   ]
  },
  {
   "cell_type": "code",
   "execution_count": 140,
   "metadata": {
    "collapsed": false
   },
   "outputs": [],
   "source": [
    "# for i in indexes:\n",
    "#     print(i)\n",
    "#     print(points[i])\n",
    "#     print(points[i][0])\n",
    "#     print(distances[i][i])\n",
    "#     print(distances[i])"
   ]
  },
  {
   "cell_type": "code",
   "execution_count": 143,
   "metadata": {
    "collapsed": false
   },
   "outputs": [],
   "source": [
    "group_a = np.array([])\n",
    "group_b = np.array([])\n",
    "group_c = np.array([])\n",
    "\n",
    "for i in range(scatters):\n",
    "    if ((distances[indexes[0]][i] < distances[indexes[1]][i]) and (distances[indexes[0]][i] < distances[indexes[2]][i])):\n",
    "        group_a = np.append(group_a, points[i])\n",
    "    if ((distances[indexes[1]][i] < distances[indexes[0]][i]) and (distances[indexes[1]][i] < distances[indexes[2]][i])):\n",
    "        group_b = np.append(group_b, points[i])\n",
    "    if ((distances[indexes[2]][i] < distances[indexes[0]][i]) and (distances[indexes[2]][i] < distances[indexes[1]][i])):\n",
    "        group_c = np.append(group_c, points[i])"
   ]
  },
  {
   "cell_type": "code",
   "execution_count": 144,
   "metadata": {
    "collapsed": false
   },
   "outputs": [],
   "source": [
    "group_a = group_a.reshape(-1, 2)\n",
    "group_b = group_b.reshape(-1, 2)\n",
    "group_c = group_c.reshape(-1, 2)\n",
    "\n",
    "centres = np.r_[group_a.mean(0), group_b.mean(0), group_c.mean(0)].reshape(-1,2)"
   ]
  },
  {
   "cell_type": "code",
   "execution_count": 150,
   "metadata": {
    "collapsed": false
   },
   "outputs": [
    {
     "data": {
      "image/png": "[encoded data removed]",
      "text/plain": [
       "<matplotlib.figure.Figure at 0x7f6f288f2f98>"
      ]
     },
     "metadata": {},
     "output_type": "display_data"
    }
   ],
   "source": [
    "import matplotlib\n",
    "import matplotlib.pyplot as plt\n",
    "%matplotlib inline\n",
    "\n",
    "plt.plot(a_x, a_y, 'yo')\n",
    "plt.plot(centres[:,0], centres[:,1], 'ro')\n",
    "\n",
    "# plt.plot(np.r_[group_a[:,0], np.full(len(group_a), centres[0][0])].reshape(-1, len(group_a)),\n",
    "#         np.r_[group_a[:,1], np.full(len(group_a), centres[0][1])].reshape(-1, len(group_a)),\n",
    "#         'b-')\n",
    "# plt.plot(np.r_[group_b[:,0], np.full(len(group_b), centres[1][0])].reshape(-1, len(group_b)),\n",
    "#         np.r_[group_b[:,1], np.full(len(group_b), centres[1][1])].reshape(-1, len(group_b)),\n",
    "#         'r-')\n",
    "# plt.plot(np.r_[group_c[:,0], np.full(len(group_c), centres[2][0])].reshape(-1, len(group_c)),\n",
    "#         np.r_[group_c[:,1], np.full(len(group_c), centres[2][1])].reshape(-1, len(group_c)),\n",
    "#         'g-')\n",
    "\n",
    "plt.plot(np.r_[group_a[:,0], np.full(len(group_a), points[indexes[0]][0])].reshape(-1, len(group_a)),\n",
    "        np.r_[group_a[:,1], np.full(len(group_a), points[indexes[0]][1])].reshape(-1, len(group_a)),\n",
    "        'b-')\n",
    "plt.plot(np.r_[group_b[:,0], np.full(len(group_b), points[indexes[1]][0])].reshape(-1, len(group_b)),\n",
    "        np.r_[group_b[:,1], np.full(len(group_b), points[indexes[1]][1])].reshape(-1, len(group_b)),\n",
    "        'r-')\n",
    "plt.plot(np.r_[group_c[:,0], np.full(len(group_c), points[indexes[2]][0])].reshape(-1, len(group_c)),\n",
    "        np.r_[group_c[:,1], np.full(len(group_c), points[indexes[2]][1])].reshape(-1, len(group_c)),\n",
    "        'g-')\n",
    "\n",
    "plt.axis('equal')\n",
    "plt.show()\n",
    "\n",
    "\n",
    "\n",
    "# a1_x, a1_y"
   ]
  },
  {
   "cell_type": "code",
   "execution_count": null,
   "metadata": {
    "collapsed": true
   },
   "outputs": [],
   "source": []
  }
 ],
 "metadata": {
  "kernelspec": {
   "display_name": "Python 3",
   "language": "python",
   "name": "python3"
  },
  "language_info": {
   "codemirror_mode": {
    "name": "ipython",
    "version": 3
   },
   "file_extension": ".py",
   "mimetype": "text/x-python",
   "name": "python",
   "nbconvert_exporter": "python",
   "pygments_lexer": "ipython3",
   "version": "3.6.0"
  }
 },
 "nbformat": 4,
 "nbformat_minor": 2
}

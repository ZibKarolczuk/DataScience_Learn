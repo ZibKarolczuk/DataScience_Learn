{
 "cells": [
  {
   "cell_type": "code",
   "execution_count": 2,
   "metadata": {
    "collapsed": true
   },
   "outputs": [],
   "source": [
    "import numpy as np\n",
    "import scipy\n",
    "import scipy.spatial\n",
    "from scipy.spatial import distance_matrix"
   ]
  },
  {
   "cell_type": "code",
   "execution_count": 3,
   "metadata": {
    "collapsed": false
   },
   "outputs": [],
   "source": [
    "a1_x = np.random.uniform(9,12,5)\n",
    "a1_y = np.random.uniform(3,11,5)\n",
    "a2_x = np.random.uniform(1,6,5)\n",
    "a2_y = np.random.uniform(0,10,5)\n",
    "a3_x = np.random.uniform(5,9,5)\n",
    "a3_y = np.random.uniform(8,18,5)\n",
    "\n",
    "r4_x = np.random.uniform(0,12,5)\n",
    "r4_y = np.random.uniform(0,18,5)\n",
    "\n",
    "a_x = np.r_[a1_x, a2_x, a3_x, r4_x].reshape(-1,1)\n",
    "a_y = np.r_[a1_y, a2_y, a3_y, r4_y].reshape(-1,1)\n",
    "\n",
    "points = np.hstack((a_x, a_y))"
   ]
  },
  {
   "cell_type": "code",
   "execution_count": 4,
   "metadata": {
    "collapsed": false
   },
   "outputs": [],
   "source": [
    "centres = np.floor(np.random.uniform(0, a_x.size,3))\n",
    "distances = scipy.spatial.distance_matrix(a_x, a_y)"
   ]
  },
  {
   "cell_type": "code",
   "execution_count": 12,
   "metadata": {
    "collapsed": false
   },
   "outputs": [
    {
     "name": "stdout",
     "output_type": "stream",
     "text": [
      "[27  8 19]\n"
     ]
    }
   ],
   "source": [
    "indexes = np.arange(100)\n",
    "np.random.shuffle(indexes)\n",
    "indexes = indexes[:3]\n",
    "print(indexes)"
   ]
  },
  {
   "cell_type": "code",
   "execution_count": 31,
   "metadata": {
    "collapsed": false
   },
   "outputs": [
    {
     "name": "stdout",
     "output_type": "stream",
     "text": [
      "7.0\n",
      "[ 3.40510493  5.2981957 ]\n",
      "1.89309076703\n",
      "[  0.90085953   5.67311245   4.41614318   6.36874411   3.9825398\n",
      "   1.72947959   3.28972712   1.89309077   1.15658553   4.40535864\n",
      "  10.45892508   8.14784622   5.53031358  11.58417792   6.92514434\n",
      "   6.54089563   2.3088201   12.32847815   4.53743003  10.40077859]\n",
      "4.0\n",
      "[ 11.1423484    7.38764473]\n",
      "3.75470366181\n",
      "[  6.83638393   2.06413101   3.32110028   1.36849936   3.75470366\n",
      "   9.46672306  11.02697059   5.8441527    8.893829     3.33188482\n",
      "   2.72168162   0.41060276   2.20692988   3.84693446   0.81209913\n",
      "   1.19634783   5.42842337   4.59123469   3.19981343   2.66353513]\n",
      "18.0\n",
      "[ 1.72564486  7.94253496]\n",
      "6.21689009927\n",
      "[  2.5803196    7.35257252   6.09560325   8.04820418   5.66199987\n",
      "   0.05001953   1.61026705   3.57255084   0.52287454   6.08481871\n",
      "  12.13838515   9.82730629   7.20977365  13.26363799   8.6046044\n",
      "   8.2203557    3.98828017  14.00793822   6.2168901   12.08023866]\n"
     ]
    },
    {
     "name": "stderr",
     "output_type": "stream",
     "text": [
      "/home/kodolamacz/anaconda3/lib/python3.6/site-packages/ipykernel/__main__.py:3: VisibleDeprecationWarning: using a non-integer number instead of an integer will result in an error in the future\n",
      "  app.launch_new_instance()\n",
      "/home/kodolamacz/anaconda3/lib/python3.6/site-packages/ipykernel/__main__.py:4: VisibleDeprecationWarning: using a non-integer number instead of an integer will result in an error in the future\n",
      "/home/kodolamacz/anaconda3/lib/python3.6/site-packages/ipykernel/__main__.py:5: VisibleDeprecationWarning: using a non-integer number instead of an integer will result in an error in the future\n"
     ]
    }
   ],
   "source": [
    "for i in centres:\n",
    "    print(i)\n",
    "    print(points[i])\n",
    "    print(distances[i][i])\n",
    "    print(distances[i])"
   ]
  },
  {
   "cell_type": "code",
   "execution_count": 11,
   "metadata": {
    "collapsed": false
   },
   "outputs": [
    {
     "data": {
      "image/png": "[encoded data removed]",
      "text/plain": [
       "<matplotlib.figure.Figure at 0x7fa6d2a386d8>"
      ]
     },
     "metadata": {},
     "output_type": "display_data"
    }
   ],
   "source": [
    "import matplotlib\n",
    "import matplotlib.pyplot as plt\n",
    "%matplotlib inline\n",
    "\n",
    "plt.plot(a_x, a_y, 'bo')\n",
    "plt.show()\n",
    "\n",
    "# a1_x, a1_y"
   ]
  },
  {
   "cell_type": "markdown",
   "metadata": {
    "collapsed": true
   },
   "source": [
    "# TO JEST HEADER"
   ]
  },
  {
   "cell_type": "code",
   "execution_count": 20,
   "metadata": {
    "collapsed": true
   },
   "outputs": [],
   "source": [
    "0"
   ]
  },
  {
   "cell_type": "code",
   "execution_count": null,
   "metadata": {
    "collapsed": true
   },
   "outputs": [],
   "source": []
  }
 ],
 "metadata": {
  "kernelspec": {
   "display_name": "Python 3",
   "language": "python",
   "name": "python3"
  },
  "language_info": {
   "codemirror_mode": {
    "name": "ipython",
    "version": 3
   },
   "file_extension": ".py",
   "mimetype": "text/x-python",
   "name": "python",
   "nbconvert_exporter": "python",
   "pygments_lexer": "ipython3",
   "version": "3.6.0"
  }
 },
 "nbformat": 4,
 "nbformat_minor": 2
}

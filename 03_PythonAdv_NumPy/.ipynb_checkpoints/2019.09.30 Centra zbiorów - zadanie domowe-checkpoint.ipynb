{
 "cells": [
  {
   "cell_type": "code",
   "execution_count": 2,
   "metadata": {
    "collapsed": true
   },
   "outputs": [],
   "source": [
    "#Packages\n",
    "\n",
    "import numpy as np\n",
    "import scipy\n",
    "import scipy.spatial\n",
    "from scipy.spatial import distance_matrix\n",
    "\n",
    "import matplotlib\n",
    "import matplotlib.pyplot as plt\n",
    "%matplotlib inline"
   ]
  },
  {
   "cell_type": "code",
   "execution_count": 74,
   "metadata": {
    "collapsed": false
   },
   "outputs": [],
   "source": [
    "scattersEachGroup = 10\n",
    "\n",
    "a1_x = np.random.uniform(9,12,scattersEachGroup)\n",
    "a1_y = np.random.uniform(3,11,scattersEachGroup)\n",
    "a2_x = np.random.uniform(1,6,scattersEachGroup)\n",
    "a2_y = np.random.uniform(0,10,scattersEachGroup)\n",
    "a3_x = np.random.uniform(5,9,scattersEachGroup)\n",
    "a3_y = np.random.uniform(8,18,scattersEachGroup)\n",
    "\n",
    "r4_x = np.random.uniform(0,12,scattersEachGroup)\n",
    "r4_y = np.random.uniform(0,18,scattersEachGroup)\n",
    "\n",
    "a_x = np.r_[a1_x, a2_x, a3_x, r4_x].reshape(-1,1)\n",
    "a_y = np.r_[a1_y, a2_y, a3_y, r4_y].reshape(-1,1)\n",
    "\n",
    "points = np.hstack((a_x, a_y))"
   ]
  },
  {
   "cell_type": "code",
   "execution_count": 75,
   "metadata": {
    "collapsed": false
   },
   "outputs": [],
   "source": [
    "groups = 7\n",
    "scatters = scattersEachGroup * 4\n",
    "\n",
    "indexes = np.arange(scatters)\n",
    "np.random.shuffle(indexes)\n",
    "indexes = indexes[:groups]\n",
    "\n",
    "distances = scipy.spatial.distance_matrix(points, points)"
   ]
  },
  {
   "cell_type": "code",
   "execution_count": 76,
   "metadata": {
    "collapsed": false
   },
   "outputs": [],
   "source": [
    "linkLines = np.array([])        \n",
    "for x in range(scatters):\n",
    "    i = indexes[np.argmin(distances[x][indexes])]\n",
    "    linkLines = np.append(linkLines, np.r_[points[x], points[i]])\n",
    "linkLines = linkLines.reshape(-1, 4)\n",
    "\n",
    "centres = np.array([])\n",
    "for i in indexes:\n",
    "    group = linkLines[np.where(linkLines[:,2] == points[i][0])]\n",
    "    centres = np.append(centres, group.mean(0))\n",
    "centres = centres.reshape(-1,4)"
   ]
  },
  {
   "cell_type": "code",
   "execution_count": 77,
   "metadata": {
    "collapsed": false
   },
   "outputs": [
    {
     "data": {
      "image/png": "[encoded data removed]",
      "text/plain": [
       "<matplotlib.figure.Figure at 0x7f63553d1080>"
      ]
     },
     "metadata": {},
     "output_type": "display_data"
    }
   ],
   "source": [
    "import matplotlib\n",
    "import matplotlib.pyplot as plt\n",
    "%matplotlib inline\n",
    "\n",
    "plt.plot(a_x, a_y, 'go')\n",
    "plt.plot(centres[:,0], centres[:,1], 'bo')\n",
    "\n",
    "plt.plot(np.r_[linkLines[:,0], linkLines[:,2]].reshape(-1,scatters),\n",
    "        np.r_[linkLines[:,1], linkLines[:,3]].reshape(-1,scatters), 'y-')\n",
    "\n",
    "plt.axis('equal')\n",
    "plt.show()\n"
   ]
  },
  {
   "cell_type": "code",
   "execution_count": 29,
   "metadata": {
    "collapsed": false
   },
   "outputs": [
    {
     "data": {
      "text/plain": [
       "2.0"
      ]
     },
     "execution_count": 29,
     "metadata": {},
     "output_type": "execute_result"
    }
   ],
   "source": [
    "np.mean([1,3])"
   ]
  },
  {
   "cell_type": "code",
   "execution_count": null,
   "metadata": {
    "collapsed": true
   },
   "outputs": [],
   "source": []
  }
 ],
 "metadata": {
  "kernelspec": {
   "display_name": "Python 3",
   "language": "python",
   "name": "python3"
  },
  "language_info": {
   "codemirror_mode": {
    "name": "ipython",
    "version": 3
   },
   "file_extension": ".py",
   "mimetype": "text/x-python",
   "name": "python",
   "nbconvert_exporter": "python",
   "pygments_lexer": "ipython3",
   "version": "3.6.0"
  }
 },
 "nbformat": 4,
 "nbformat_minor": 2
}

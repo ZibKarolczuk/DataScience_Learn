{
 "cells": [
  {
   "cell_type": "code",
   "execution_count": 2,
   "metadata": {
    "collapsed": true
   },
   "outputs": [],
   "source": [
    "import numpy as np\n",
    "import scipy\n",
    "import scipy.spatial\n",
    "from scipy.spatial import distance_matrix"
   ]
  },
  {
   "cell_type": "code",
   "execution_count": 81,
   "metadata": {
    "collapsed": false
   },
   "outputs": [],
   "source": [
    "scattersEachGroup = 20\n",
    "\n",
    "a1_x = np.random.uniform(9,12,scattersEachGroup)\n",
    "a1_y = np.random.uniform(3,11,scattersEachGroup)\n",
    "a2_x = np.random.uniform(1,6,scattersEachGroup)\n",
    "a2_y = np.random.uniform(0,10,scattersEachGroup)\n",
    "a3_x = np.random.uniform(5,9,scattersEachGroup)\n",
    "a3_y = np.random.uniform(8,18,scattersEachGroup)\n",
    "\n",
    "r4_x = np.random.uniform(0,12,scattersEachGroup)\n",
    "r4_y = np.random.uniform(0,18,scattersEachGroup)\n",
    "\n",
    "a_x = np.r_[a1_x, a2_x, a3_x, r4_x].reshape(-1,1)\n",
    "a_y = np.r_[a1_y, a2_y, a3_y, r4_y].reshape(-1,1)\n",
    "\n",
    "points = np.hstack((a_x, a_y))"
   ]
  },
  {
   "cell_type": "code",
   "execution_count": 101,
   "metadata": {
    "collapsed": false
   },
   "outputs": [],
   "source": [
    "scatters = scattersEachGroup * 4\n",
    "\n",
    "indexes = np.arange(scatters)\n",
    "np.random.shuffle(indexes)\n",
    "indexes = indexes[:3]\n",
    "\n",
    "distances = scipy.spatial.distance_matrix(points, points)"
   ]
  },
  {
   "cell_type": "code",
   "execution_count": 88,
   "metadata": {
    "collapsed": false
   },
   "outputs": [
    {
     "name": "stdout",
     "output_type": "stream",
     "text": [
      "18\n",
      "[ 9.35227749  9.44681929]\n",
      "0.0\n",
      "[  0.82945613   1.46795803   1.70120864   1.50530165   1.14597645\n",
      "   1.057177     2.49525637   0.7245308    3.26310315   5.72250478\n",
      "   5.7931956    1.56118678   4.95419514   3.23994966   3.66348905\n",
      "   0.92805768   6.17382058   1.38898473   0.           2.09166352\n",
      "   6.10692008   8.43168243   8.95567035   8.94533407  10.24567423\n",
      "  10.32642292  11.50984392   5.81160404  10.95786236   6.67033056\n",
      "   7.2867029    8.13608926   5.02855546   6.11967441   5.71895244\n",
      "   8.94198768   4.45931776   6.7367855    4.38353762  10.06622287\n",
      "   6.23694139   4.65709052   4.11204767   6.31791233   2.13907967\n",
      "   7.41163774   3.65229239   6.91921993   4.8662845    4.85017657\n",
      "   0.5017107    4.28535329   6.1122316    7.81596353   6.4471698\n",
      "   5.34135719   4.21422654   8.08675785   8.50333523   3.98282129\n",
      "   3.23174908   7.30335603   7.09760143   7.50640834   6.51959285\n",
      "   1.63472811   0.83019755   6.38640022   1.91351997   6.66495021\n",
      "   2.31848966   5.16449297   9.2293153    6.75008732   5.91254905\n",
      "   8.38253508   7.75076644   2.23773567   2.47615512   9.74062346]\n",
      "43\n",
      "[  8.02112807  15.62290684]\n",
      "0.0\n",
      "[  7.14412776   4.87231071   8.00597968   7.72725702   6.42865564\n",
      "   7.35211715   5.9409008    7.03104601   9.58097434  12.03300232\n",
      "  12.01560385   6.19825781  11.23906087   9.55298924   9.94231551\n",
      "   6.0032502   12.49133839   7.09251354   6.31791233   5.66803697\n",
      "  10.60930535  12.32925952  12.79816823  13.40314928  15.31258624\n",
      "  15.27999724  16.42058143  10.18257915  16.01377816   9.39033222\n",
      "  11.40070899  11.82820742   9.87050196  10.99171728  10.98122948\n",
      "  14.26036355   9.19764784   9.57615211   7.01129745  15.20549921\n",
      "   0.78877063   2.66795985   2.20589225   0.           4.93381821\n",
      "   1.37510186   2.66577528   2.92809621   1.75187898   1.50009481\n",
      "   5.9750637    7.7778949    0.25539715   1.62976302   1.41853203\n",
      "   1.26783178   7.65038235   2.02805077   2.74650738   6.88555987\n",
      "   9.25975902  11.09615196  12.69298236  13.71641706   1.95155528\n",
      "   7.85710666   7.14796979  11.02177117   4.41220496   1.17757664\n",
      "   6.92981271   4.00102143   4.35072083   1.61973397   6.6768595\n",
      "   4.22545233   8.59182164   4.51740529   4.06414672   7.70034501]\n",
      "55\n",
      "[  7.512803    14.46144094]\n",
      "0.0\n",
      "[  6.17007831   3.95846489   7.04256542   6.80724267   5.62364896\n",
      "   6.34018362   5.39899391   6.0320355    8.58652221  11.05728279\n",
      "  10.922943     5.47193085  10.29526231   8.53824698   9.0027056\n",
      "   5.16560397  11.48070882   6.2726649    5.34135719   5.04726898\n",
      "   9.34700452  11.06382659  11.53449603  12.13566727  14.05480918\n",
      "  14.01860946  15.15677295   8.9190208   14.75451623   8.14217799\n",
      "  10.13287739  10.56517721   8.62367797   9.73916705   9.7493655\n",
      "  13.01717702   7.95208684   8.32530144   5.74455646  13.95077339\n",
      "   0.8993394    1.41101071   1.38693569   1.26783178   3.75782492\n",
      "   2.64027993   1.80665531   2.39555082   0.51268974   0.64880363\n",
      "   4.95118976   6.51138992   1.21110006   2.88706318   1.2070845    0.\n",
      "   6.38386069   3.29525971   3.21726551   5.61797595   8.13666251\n",
      "   9.82993004  11.47781464  12.61091264   2.84756031   6.9384587\n",
      "   6.1664064    9.76126809   3.49568607   2.28244452   6.29411251\n",
      "   4.20651699   4.376973     1.53200041   5.48712871   3.9245878\n",
      "   7.45752696   3.37011273   3.33938236   6.98480067]\n"
     ]
    }
   ],
   "source": [
    "for i in indexes:\n",
    "    print(i)\n",
    "    print(points[i])\n",
    "    print(distances[i][i])\n",
    "    print(distances[i])"
   ]
  },
  {
   "cell_type": "code",
   "execution_count": 118,
   "metadata": {
    "collapsed": false
   },
   "outputs": [],
   "source": [
    "group_a = np.array([])\n",
    "group_b = np.array([])\n",
    "group_c = np.array([])\n",
    "\n",
    "for i in range(scatters):\n",
    "    if ((distances[indexes[0]][i] < distances[indexes[1]][i]) and (distances[indexes[0]][i] < distances[indexes[2]][i])):\n",
    "        group_a = np.append(group_a, points[i])\n",
    "    if ((distances[indexes[1]][i] < distances[indexes[0]][i]) and (distances[indexes[1]][i] < distances[indexes[2]][i])):\n",
    "        group_b = np.append(group_b, points[i])\n",
    "    if ((distances[indexes[2]][i] < distances[indexes[0]][i]) and (distances[indexes[2]][i] < distances[indexes[1]][i])):\n",
    "        group_c = np.append(group_c, points[i])"
   ]
  },
  {
   "cell_type": "code",
   "execution_count": 122,
   "metadata": {
    "collapsed": false
   },
   "outputs": [
    {
     "name": "stdout",
     "output_type": "stream",
     "text": [
      "[[  9.6024097    8.65597712]\n",
      " [  9.93941351   7.85014083]\n",
      " [ 10.21588341   8.21388868]\n",
      " [ 10.47414285   9.68065711]\n",
      " [  9.33826651   8.38973514]\n",
      " [ 11.46171662  10.77969998]\n",
      " [  9.37025907   8.72251166]\n",
      " [ 10.05950861   6.2612791 ]\n",
      " [ 10.94782397   3.95124904]\n",
      " [  9.12474864   3.65809353]\n",
      " [ 10.78213691  10.07356183]\n",
      " [ 11.12809754   4.82183143]\n",
      " [  9.81986239   6.24078777]\n",
      " [ 10.76529546   6.06679974]\n",
      " [ 10.10313808   9.99225437]\n",
      " [ 10.55696804   3.39167426]\n",
      " [ 10.68303372   9.04886649]\n",
      " [  9.35227749   9.44681929]\n",
      " [ 10.96471192  10.77915239]\n",
      " [  8.36508755   6.36953832]\n",
      " [  9.06187374   1.94603054]\n",
      " [ 10.27135269   8.09491812]\n",
      " [  9.54301932   8.63883073]\n",
      " [ 11.65438899   9.72191376]\n",
      " [ 11.69889407  14.04740385]]\n",
      "[ 10.21137243   7.7937446 ]\n",
      "\n",
      "[[  9.26564861  10.91221897]\n",
      " [  2.90105147   7.75123899]\n",
      " [  5.85124944   6.6848784 ]\n",
      " [  2.89212865   7.53612415]\n",
      " [  4.97087926   9.30988267]\n",
      " [  7.2878826   15.33220047]\n",
      " [  6.72409467  13.29144504]\n",
      " [  8.47719293  13.46467482]\n",
      " [  8.02112807  15.62290684]\n",
      " [  7.62251013  10.70521777]\n",
      " [  8.68310019  16.82818609]\n",
      " [  8.60416247  13.02167084]\n",
      " [  5.169397    14.95854453]\n",
      " [  7.50490472  13.94881204]\n",
      " [  8.06664774  14.12350282]\n",
      " [  8.92974209   9.71733263]\n",
      " [  5.20356957   8.37328525]\n",
      " [  8.21041138  15.45144392]\n",
      " [  8.40951232  17.2057161 ]\n",
      " [  6.64076284  15.29606597]\n",
      " [  7.512803    14.46144094]\n",
      " [  5.24739727   8.49305638]\n",
      " [  8.75938408  17.5118134 ]\n",
      " [  5.73244091  17.14119992]\n",
      " [  5.37353042   9.26671605]\n",
      " [  9.94687479  15.93924141]\n",
      " [  9.09135186  11.34246601]\n",
      " [  9.09469394  16.10679016]\n",
      " [  3.84870929  16.85566522]\n",
      " [  6.40470852  15.51934068]\n",
      " [  3.56380188  10.65172027]\n",
      " [  3.79688818  15.72412316]\n",
      " [  1.61464483   9.89784164]\n",
      " [  7.85363793  11.1086076 ]\n",
      " [  9.65987538  11.90379461]\n",
      " [  0.57333001  13.66698831]]\n",
      "[  6.59750135  12.92017095]\n",
      "\n",
      "[[ 4.63496319  5.56849252]\n",
      " [ 2.42834548  4.63512166]\n",
      " [ 2.00411501  4.32739163]\n",
      " [ 2.92303202  3.22718874]\n",
      " [ 3.61556966  0.95776612]\n",
      " [ 3.27341579  1.09921779]\n",
      " [ 2.60719294  0.1204941 ]\n",
      " [ 4.66676775  6.00868899]\n",
      " [ 3.27503102  0.32860549]\n",
      " [ 3.4447322   5.18103124]\n",
      " [ 2.40432586  5.21339083]\n",
      " [ 5.65299382  6.04069681]\n",
      " [ 5.12828202  5.01869586]\n",
      " [ 5.97056566  4.83483034]\n",
      " [ 4.85388157  1.71871617]\n",
      " [ 3.89592516  0.98767855]\n",
      " [ 3.09523873  5.68006004]\n",
      " [ 6.27620641  3.05043494]\n",
      " [ 4.64486411  5.13099179]]\n",
      "[ 3.93660255  3.6383944 ]\n",
      "\n"
     ]
    }
   ],
   "source": [
    "group_a = group_a.reshape(-1, 2)\n",
    "group_b = group_b.reshape(-1, 2)\n",
    "group_c = group_c.reshape(-1, 2)\n",
    "\n",
    "print(group_a)\n",
    "print(group_a.mean(0))\n",
    "print(\"\")\n",
    "\n",
    "print(group_b)\n",
    "print(group_b.mean(0))\n",
    "print(\"\")\n",
    "\n",
    "print(group_c)\n",
    "print(group_c.mean(0))\n",
    "print(\"\")"
   ]
  },
  {
   "cell_type": "code",
   "execution_count": 28,
   "metadata": {
    "collapsed": false
   },
   "outputs": [
    {
     "data": {
      "image/png": "[encoded data removed]",
      "text/plain": [
       "<matplotlib.figure.Figure at 0x7f6a79193400>"
      ]
     },
     "metadata": {},
     "output_type": "display_data"
    }
   ],
   "source": [
    "import matplotlib\n",
    "import matplotlib.pyplot as plt\n",
    "%matplotlib inline\n",
    "\n",
    "plt.plot(a_x, a_y, 'bo')\n",
    "plt.show()\n",
    "\n",
    "# a1_x, a1_y"
   ]
  },
  {
   "cell_type": "markdown",
   "metadata": {
    "collapsed": true
   },
   "source": [
    "# TO JEST HEADER"
   ]
  },
  {
   "cell_type": "code",
   "execution_count": 20,
   "metadata": {
    "collapsed": true
   },
   "outputs": [],
   "source": [
    "0"
   ]
  },
  {
   "cell_type": "code",
   "execution_count": null,
   "metadata": {
    "collapsed": true
   },
   "outputs": [],
   "source": []
  }
 ],
 "metadata": {
  "kernelspec": {
   "display_name": "Python 3",
   "language": "python",
   "name": "python3"
  },
  "language_info": {
   "codemirror_mode": {
    "name": "ipython",
    "version": 3
   },
   "file_extension": ".py",
   "mimetype": "text/x-python",
   "name": "python",
   "nbconvert_exporter": "python",
   "pygments_lexer": "ipython3",
   "version": "3.6.0"
  }
 },
 "nbformat": 4,
 "nbformat_minor": 2
}

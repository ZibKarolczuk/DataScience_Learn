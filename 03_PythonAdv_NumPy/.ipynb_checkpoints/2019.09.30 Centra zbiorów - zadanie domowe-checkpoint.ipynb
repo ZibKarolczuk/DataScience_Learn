{
 "cells": [
  {
   "cell_type": "code",
   "execution_count": 100,
   "metadata": {
    "collapsed": true
   },
   "outputs": [],
   "source": [
    "import numpy as np\n",
    "import scipy\n",
    "import scipy.spatial\n",
    "from scipy.spatial import distance_matrix"
   ]
  },
  {
   "cell_type": "code",
   "execution_count": 108,
   "metadata": {
    "collapsed": false
   },
   "outputs": [],
   "source": [
    "a1_x = np.random.uniform(9,12,5)\n",
    "a1_y = np.random.uniform(3,11,5)\n",
    "a2_x = np.random.uniform(1,6,5)\n",
    "a2_y = np.random.uniform(0,10,5)\n",
    "a3_x = np.random.uniform(5,9,5)\n",
    "a3_y = np.random.uniform(8,18,5)\n",
    "\n",
    "r4_x = np.random.uniform(0,12,5)\n",
    "r4_y = np.random.uniform(0,18,5)\n",
    "\n",
    "a_x = np.r_[a1_x, a2_x, a3_x, r4_x].reshape(-1,1)\n",
    "a_y = np.r_[a1_y, a2_y, a3_y, r4_y].reshape(-1,1)\n",
    "\n",
    "points = np.hstack((a_x, a_y))"
   ]
  },
  {
   "cell_type": "code",
   "execution_count": 150,
   "metadata": {
    "collapsed": false
   },
   "outputs": [],
   "source": [
    "centres = np.floor(np.random.uniform(0, a_x.size,3))\n",
    "distances = scipy.spatial.distance_matrix(a_x, a_y)"
   ]
  },
  {
   "cell_type": "code",
   "execution_count": 170,
   "metadata": {
    "collapsed": false
   },
   "outputs": [
    {
     "name": "stdout",
     "output_type": "stream",
     "text": [
      "9.0\n",
      "[ 1.22072651  2.37536743]\n",
      "1.15464092061\n",
      "[  9.38029248   4.98651218   9.45134732   9.35659601   9.56619683\n",
      "   4.37156381   3.79795504   7.41487232   5.03391859   1.15464092\n",
      "  11.42651089  10.96171538  16.54357546   7.13987939  16.27654585\n",
      "   7.55354982   1.00703348   8.21842545  13.72542441  11.40159765]\n",
      "15.0\n",
      "[ 9.76370644  8.77427633]\n",
      "0.989430109443\n",
      "[ 0.83731255  3.55646775  0.90836739  0.81361608  1.0232169   4.17141612\n",
      "  4.74502489  1.12810762  3.50906134  7.38833901  2.88353096  2.41873545\n",
      "  8.00059553  1.40310054  7.73356592  0.98943011  9.55001341  0.32455449\n",
      "  5.18244447  2.85861772]\n",
      "9.0\n",
      "[ 1.22072651  2.37536743]\n",
      "1.15464092061\n",
      "[  9.38029248   4.98651218   9.45134732   9.35659601   9.56619683\n",
      "   4.37156381   3.79795504   7.41487232   5.03391859   1.15464092\n",
      "  11.42651089  10.96171538  16.54357546   7.13987939  16.27654585\n",
      "   7.55354982   1.00703348   8.21842545  13.72542441  11.40159765]\n"
     ]
    },
    {
     "name": "stderr",
     "output_type": "stream",
     "text": [
      "/home/kodolamacz/anaconda3/lib/python3.6/site-packages/ipykernel/__main__.py:3: VisibleDeprecationWarning: using a non-integer number instead of an integer will result in an error in the future\n",
      "  app.launch_new_instance()\n",
      "/home/kodolamacz/anaconda3/lib/python3.6/site-packages/ipykernel/__main__.py:4: VisibleDeprecationWarning: using a non-integer number instead of an integer will result in an error in the future\n",
      "/home/kodolamacz/anaconda3/lib/python3.6/site-packages/ipykernel/__main__.py:5: VisibleDeprecationWarning: using a non-integer number instead of an integer will result in an error in the future\n"
     ]
    }
   ],
   "source": [
    "for i in centres:\n",
    "    print(i)\n",
    "    print(points[i])\n",
    "    print(distances[i][i])\n",
    "    print(distances[i])"
   ]
  },
  {
   "cell_type": "code",
   "execution_count": 169,
   "metadata": {
    "collapsed": false
   },
   "outputs": [
    {
     "data": {
      "image/png": "[encoded data removed]",
      "text/plain": [
       "<matplotlib.figure.Figure at 0x7fdc9ef34710>"
      ]
     },
     "metadata": {},
     "output_type": "display_data"
    }
   ],
   "source": [
    "import matplotlib\n",
    "import matplotlib.pyplot as plt\n",
    "%matplotlib inline\n",
    "\n",
    "plt.plot(a_x, a_y, 'bo')\n",
    "plt.show()\n",
    "\n",
    "# a1_x, a1_y"
   ]
  },
  {
   "cell_type": "code",
   "execution_count": null,
   "metadata": {
    "collapsed": true
   },
   "outputs": [],
   "source": []
  }
 ],
 "metadata": {
  "kernelspec": {
   "display_name": "Python 3",
   "language": "python",
   "name": "python3"
  },
  "language_info": {
   "codemirror_mode": {
    "name": "ipython",
    "version": 3
   },
   "file_extension": ".py",
   "mimetype": "text/x-python",
   "name": "python",
   "nbconvert_exporter": "python",
   "pygments_lexer": "ipython3",
   "version": "3.6.0"
  }
 },
 "nbformat": 4,
 "nbformat_minor": 2
}
